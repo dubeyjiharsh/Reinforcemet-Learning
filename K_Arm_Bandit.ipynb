{
 "cells": [
  {
   "cell_type": "code",
   "execution_count": 1,
   "id": "5dcc9e4b",
   "metadata": {},
   "outputs": [],
   "source": [
    "import numpy as np\n",
    "\n",
    "class KArmBandit:\n",
    "    def __init__(self, k, M, rho, lambda_teacher, lambda_student, gamma_student):\n",
    "        self.k = k\n",
    "        self.M = M\n",
    "        self.rho = rho\n",
    "        self.lambda_teacher = lambda_teacher\n",
    "        self.lambda_student = lambda_student\n",
    "        self.gamma_student = gamma_student\n",
    "        self.arm_values = np.zeros(k)  # Expected reward estimates for each arm\n",
    "        self.history_student = []\n",
    "        self.history_teacher = []\n",
    "\n",
    "    def split_data(self, data):\n",
    "        # Splits data into training, validation, and test sets\n",
    "        n = len(data)\n",
    "        return data[:int(0.6 * n)], data[int(0.6 * n):int(0.8 * n)], data[int(0.8 * n):]\n",
    "\n",
    "    def batch_data(self, train_data, batch_size):\n",
    "        # Divides data into M batches\n",
    "        return np.array_split(train_data, batch_size)\n",
    "    \n",
    "    def train_student(self, s_r, s_b, d_u):\n",
    "        # Placeholder function for student update on s_r, s_b, d_u\n",
    "        pass\n",
    "\n",
    "    def train_teacher(self, s_r):\n",
    "        # Placeholder function for teacher update on s_r\n",
    "        pass\n",
    "\n",
    "    def get_top_arms(self, scores):\n",
    "        # Selects top arms based on rho\n",
    "        top_indices = np.argsort(scores)[-int(self.rho * len(scores)):]\n",
    "        return top_indices\n",
    "\n",
    "    def epsilon_non_greedy(self, dr, db, du):\n",
    "        dr_train, dr_val, dr_test = self.split_data(dr)\n",
    "        dr_batches = self.batch_data(dr_train, self.M)\n",
    "        db_batches = self.batch_data(db, self.M)\n",
    "\n",
    "        theta_student = np.zeros(self.k)  # Initialize student parameters\n",
    "        for i in range(self.M):\n",
    "            # Evaluate and score the current batch\n",
    "            scores = np.dot(db_batches[i], theta_student)  # Example scoring\n",
    "            top_winners = self.get_top_arms(scores)\n",
    "\n",
    "            # Select top `rho` portion based on scores\n",
    "            s_b = db_batches[i][top_winners]\n",
    "            s_r = dr_batches[i]\n",
    "\n",
    "            # Update teacher and student\n",
    "            theta_teacher = self.train_teacher(s_r)\n",
    "            theta_student = self.train_student(s_r, s_b, du)\n",
    "\n",
    "        return theta_student\n"
   ]
  },
  {
   "cell_type": "code",
   "execution_count": 2,
   "id": "4c7ae50e",
   "metadata": {},
   "outputs": [],
   "source": [
    "import numpy as np\n",
    "\n",
    "# Sample data representing rewards for each arm\n",
    "np.random.seed(42)\n",
    "k = 5  # Number of arms\n",
    "M = 10  # Number of batches\n",
    "rho = 0.2  # Proportion of top actions to keep\n",
    "\n",
    "# Placeholder datasets for Dr (rewards dataset), Db (action dataset), and Du (unused)\n",
    "Dr = np.random.rand(100, k)\n",
    "Db = np.random.rand(100, k)\n",
    "Du = np.random.rand(20, k)\n",
    "\n",
    "# Hyperparameters\n",
    "lambda_teacher = 0.1\n",
    "lambda_student = 0.05\n",
    "gamma_student = 0.9\n",
    "\n",
    "# Define the KArmBandit class as per the previous code, with these modifications:\n"
   ]
  },
  {
   "cell_type": "code",
   "execution_count": 4,
   "id": "b4677bf8",
   "metadata": {},
   "outputs": [
    {
     "name": "stdout",
     "output_type": "stream",
     "text": [
      "Batch 1: Teacher Params: [0.03552587 0.04370196 0.0626958  0.0467139  0.0306611 ], Student Params: [0.60825912 0.34573048 0.4364451  0.55976072 0.64103153]\n",
      "Batch 2: Teacher Params: [0.06819936 0.03576085 0.0308777  0.0671534  0.04621082], Student Params: [0.49946853 0.75400596 0.44224118 0.5659378  0.8056632 ]\n",
      "Batch 3: Teacher Params: [0.06034853 0.04558606 0.04464928 0.04260004 0.04789575], Student Params: [0.84530412 0.31739472 0.45251562 0.73921765 0.58496373]\n",
      "Batch 4: Teacher Params: [0.03425539 0.05412774 0.05624168 0.05041241 0.05060252], Student Params: [0.8268805  0.19353765 0.28405527 0.76235735 0.83299866]\n",
      "Batch 5: Teacher Params: [0.04957494 0.05527252 0.05002577 0.0195101  0.05361435], Student Params: [0.84788414 0.57416604 0.70387378 0.47360125 0.63660464]\n",
      "Batch 6: Teacher Params: [0.05342229 0.04287182 0.04375652 0.04111443 0.05296239], Student Params: [0.77647824 0.71992187 0.51624568 0.73630175 0.79647466]\n",
      "Batch 7: Teacher Params: [0.03490986 0.04565798 0.06837589 0.06384656 0.03976561], Student Params: [0.79203337 0.82079828 0.50679198 0.64917984 0.46229329]\n",
      "Batch 8: Teacher Params: [0.05341415 0.05570039 0.04144075 0.05452758 0.04716829], Student Params: [0.70071462 0.61689358 0.63029494 0.40433961 0.50456583]\n",
      "Batch 9: Teacher Params: [0.06793005 0.07317391 0.07118756 0.05164304 0.038435  ], Student Params: [0.82647789 0.6237806  0.59196009 0.50249693 0.38142516]\n",
      "Batch 10: Teacher Params: [0.04649281 0.05365572 0.05789476 0.04964686 0.04481094], Student Params: [0.68163557 0.76101466 0.48107013 0.3871504  0.19887613]\n",
      "Final Student Parameters: [0.68163557 0.76101466 0.48107013 0.3871504  0.19887613]\n"
     ]
    }
   ],
   "source": [
    "# Initialize bandit\n",
    "bandit = KArmBandit(k, M, rho, lambda_teacher, lambda_student, gamma_student)\n",
    "\n",
    "# Run epsilon non-greedy algorithm\n",
    "final_student_params = bandit.epsilon_non_greedy(Dr, Db, Du)\n",
    "print(\"Final Student Parameters:\", final_student_params)\n"
   ]
  },
  {
   "cell_type": "code",
   "execution_count": null,
   "id": "f7364124",
   "metadata": {},
   "outputs": [],
   "source": []
  }
 ],
 "metadata": {
  "kernelspec": {
   "display_name": "Python 3 (ipykernel)",
   "language": "python",
   "name": "python3"
  },
  "language_info": {
   "codemirror_mode": {
    "name": "ipython",
    "version": 3
   },
   "file_extension": ".py",
   "mimetype": "text/x-python",
   "name": "python",
   "nbconvert_exporter": "python",
   "pygments_lexer": "ipython3",
   "version": "3.9.16"
  }
 },
 "nbformat": 4,
 "nbformat_minor": 5
}
